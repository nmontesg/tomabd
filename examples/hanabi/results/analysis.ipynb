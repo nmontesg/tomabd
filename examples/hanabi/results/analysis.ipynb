{
 "cells": [
  {
   "cell_type": "markdown",
   "metadata": {},
   "source": [
    "# Hanabi game -- Analysis of simulation results"
   ]
  },
  {
   "cell_type": "markdown",
   "metadata": {},
   "source": [
    "## Data import"
   ]
  },
  {
   "cell_type": "code",
   "execution_count": 1,
   "metadata": {},
   "outputs": [],
   "source": [
    "import numpy as np\n",
    "import pandas as pd\n",
    "import matplotlib.pyplot as plt\n",
    "\n",
    "from itertools import product"
   ]
  },
  {
   "cell_type": "code",
   "execution_count": 2,
   "metadata": {},
   "outputs": [
    {
     "ename": "FileNotFoundError",
     "evalue": "[Errno 2] No such file or directory: '/home/nmontes/Documentos/hanabi-results/info-gain/summary_true_2_players.csv'",
     "output_type": "error",
     "traceback": [
      "\u001b[0;31m---------------------------------------------------------------------------\u001b[0m",
      "\u001b[0;31mFileNotFoundError\u001b[0m                         Traceback (most recent call last)",
      "\u001b[0;32m/tmp/ipykernel_31855/1407379915.py\u001b[0m in \u001b[0;36m<module>\u001b[0;34m\u001b[0m\n\u001b[1;32m      8\u001b[0m \u001b[0;32mfor\u001b[0m \u001b[0mabd\u001b[0m\u001b[0;34m,\u001b[0m \u001b[0mn\u001b[0m \u001b[0;32min\u001b[0m \u001b[0mproduct\u001b[0m\u001b[0;34m(\u001b[0m\u001b[0;34m(\u001b[0m\u001b[0;32mTrue\u001b[0m\u001b[0;34m,\u001b[0m \u001b[0;32mFalse\u001b[0m\u001b[0;34m)\u001b[0m\u001b[0;34m,\u001b[0m \u001b[0mplayer_configs\u001b[0m\u001b[0;34m)\u001b[0m\u001b[0;34m:\u001b[0m\u001b[0;34m\u001b[0m\u001b[0;34m\u001b[0m\u001b[0m\n\u001b[1;32m      9\u001b[0m     \u001b[0mresults_file\u001b[0m \u001b[0;34m=\u001b[0m \u001b[0;34m\"{}/summary_{}_{}_players.csv\"\u001b[0m\u001b[0;34m.\u001b[0m\u001b[0mformat\u001b[0m\u001b[0;34m(\u001b[0m\u001b[0mpath\u001b[0m\u001b[0;34m,\u001b[0m \u001b[0mstr\u001b[0m\u001b[0;34m(\u001b[0m\u001b[0mabd\u001b[0m\u001b[0;34m)\u001b[0m\u001b[0;34m.\u001b[0m\u001b[0mlower\u001b[0m\u001b[0;34m(\u001b[0m\u001b[0;34m)\u001b[0m\u001b[0;34m,\u001b[0m \u001b[0mn\u001b[0m\u001b[0;34m)\u001b[0m\u001b[0;34m\u001b[0m\u001b[0;34m\u001b[0m\u001b[0m\n\u001b[0;32m---> 10\u001b[0;31m     \u001b[0mdf\u001b[0m \u001b[0;34m=\u001b[0m \u001b[0mpd\u001b[0m\u001b[0;34m.\u001b[0m\u001b[0mread_csv\u001b[0m\u001b[0;34m(\u001b[0m\u001b[0mresults_file\u001b[0m\u001b[0;34m,\u001b[0m \u001b[0msep\u001b[0m\u001b[0;34m=\u001b[0m\u001b[0;34m';'\u001b[0m\u001b[0;34m,\u001b[0m \u001b[0mindex_col\u001b[0m\u001b[0;34m=\u001b[0m\u001b[0;34m\"seed\"\u001b[0m\u001b[0;34m)\u001b[0m\u001b[0;34m\u001b[0m\u001b[0;34m\u001b[0m\u001b[0m\n\u001b[0m\u001b[1;32m     11\u001b[0m \u001b[0;34m\u001b[0m\u001b[0m\n\u001b[1;32m     12\u001b[0m     \u001b[0;31m# add efficiency as ratio score : hint\u001b[0m\u001b[0;34m\u001b[0m\u001b[0;34m\u001b[0m\u001b[0m\n",
      "\u001b[0;32m~/anaconda3/lib/python3.9/site-packages/pandas/util/_decorators.py\u001b[0m in \u001b[0;36mwrapper\u001b[0;34m(*args, **kwargs)\u001b[0m\n\u001b[1;32m    309\u001b[0m                     \u001b[0mstacklevel\u001b[0m\u001b[0;34m=\u001b[0m\u001b[0mstacklevel\u001b[0m\u001b[0;34m,\u001b[0m\u001b[0;34m\u001b[0m\u001b[0;34m\u001b[0m\u001b[0m\n\u001b[1;32m    310\u001b[0m                 )\n\u001b[0;32m--> 311\u001b[0;31m             \u001b[0;32mreturn\u001b[0m \u001b[0mfunc\u001b[0m\u001b[0;34m(\u001b[0m\u001b[0;34m*\u001b[0m\u001b[0margs\u001b[0m\u001b[0;34m,\u001b[0m \u001b[0;34m**\u001b[0m\u001b[0mkwargs\u001b[0m\u001b[0;34m)\u001b[0m\u001b[0;34m\u001b[0m\u001b[0;34m\u001b[0m\u001b[0m\n\u001b[0m\u001b[1;32m    312\u001b[0m \u001b[0;34m\u001b[0m\u001b[0m\n\u001b[1;32m    313\u001b[0m         \u001b[0;32mreturn\u001b[0m \u001b[0mwrapper\u001b[0m\u001b[0;34m\u001b[0m\u001b[0;34m\u001b[0m\u001b[0m\n",
      "\u001b[0;32m~/anaconda3/lib/python3.9/site-packages/pandas/io/parsers/readers.py\u001b[0m in \u001b[0;36mread_csv\u001b[0;34m(filepath_or_buffer, sep, delimiter, header, names, index_col, usecols, squeeze, prefix, mangle_dupe_cols, dtype, engine, converters, true_values, false_values, skipinitialspace, skiprows, skipfooter, nrows, na_values, keep_default_na, na_filter, verbose, skip_blank_lines, parse_dates, infer_datetime_format, keep_date_col, date_parser, dayfirst, cache_dates, iterator, chunksize, compression, thousands, decimal, lineterminator, quotechar, quoting, doublequote, escapechar, comment, encoding, encoding_errors, dialect, error_bad_lines, warn_bad_lines, on_bad_lines, delim_whitespace, low_memory, memory_map, float_precision, storage_options)\u001b[0m\n\u001b[1;32m    676\u001b[0m     \u001b[0mkwds\u001b[0m\u001b[0;34m.\u001b[0m\u001b[0mupdate\u001b[0m\u001b[0;34m(\u001b[0m\u001b[0mkwds_defaults\u001b[0m\u001b[0;34m)\u001b[0m\u001b[0;34m\u001b[0m\u001b[0;34m\u001b[0m\u001b[0m\n\u001b[1;32m    677\u001b[0m \u001b[0;34m\u001b[0m\u001b[0m\n\u001b[0;32m--> 678\u001b[0;31m     \u001b[0;32mreturn\u001b[0m \u001b[0m_read\u001b[0m\u001b[0;34m(\u001b[0m\u001b[0mfilepath_or_buffer\u001b[0m\u001b[0;34m,\u001b[0m \u001b[0mkwds\u001b[0m\u001b[0;34m)\u001b[0m\u001b[0;34m\u001b[0m\u001b[0;34m\u001b[0m\u001b[0m\n\u001b[0m\u001b[1;32m    679\u001b[0m \u001b[0;34m\u001b[0m\u001b[0m\n\u001b[1;32m    680\u001b[0m \u001b[0;34m\u001b[0m\u001b[0m\n",
      "\u001b[0;32m~/anaconda3/lib/python3.9/site-packages/pandas/io/parsers/readers.py\u001b[0m in \u001b[0;36m_read\u001b[0;34m(filepath_or_buffer, kwds)\u001b[0m\n\u001b[1;32m    573\u001b[0m \u001b[0;34m\u001b[0m\u001b[0m\n\u001b[1;32m    574\u001b[0m     \u001b[0;31m# Create the parser.\u001b[0m\u001b[0;34m\u001b[0m\u001b[0;34m\u001b[0m\u001b[0m\n\u001b[0;32m--> 575\u001b[0;31m     \u001b[0mparser\u001b[0m \u001b[0;34m=\u001b[0m \u001b[0mTextFileReader\u001b[0m\u001b[0;34m(\u001b[0m\u001b[0mfilepath_or_buffer\u001b[0m\u001b[0;34m,\u001b[0m \u001b[0;34m**\u001b[0m\u001b[0mkwds\u001b[0m\u001b[0;34m)\u001b[0m\u001b[0;34m\u001b[0m\u001b[0;34m\u001b[0m\u001b[0m\n\u001b[0m\u001b[1;32m    576\u001b[0m \u001b[0;34m\u001b[0m\u001b[0m\n\u001b[1;32m    577\u001b[0m     \u001b[0;32mif\u001b[0m \u001b[0mchunksize\u001b[0m \u001b[0;32mor\u001b[0m \u001b[0miterator\u001b[0m\u001b[0;34m:\u001b[0m\u001b[0;34m\u001b[0m\u001b[0;34m\u001b[0m\u001b[0m\n",
      "\u001b[0;32m~/anaconda3/lib/python3.9/site-packages/pandas/io/parsers/readers.py\u001b[0m in \u001b[0;36m__init__\u001b[0;34m(self, f, engine, **kwds)\u001b[0m\n\u001b[1;32m    930\u001b[0m \u001b[0;34m\u001b[0m\u001b[0m\n\u001b[1;32m    931\u001b[0m         \u001b[0mself\u001b[0m\u001b[0;34m.\u001b[0m\u001b[0mhandles\u001b[0m\u001b[0;34m:\u001b[0m \u001b[0mIOHandles\u001b[0m \u001b[0;34m|\u001b[0m \u001b[0;32mNone\u001b[0m \u001b[0;34m=\u001b[0m \u001b[0;32mNone\u001b[0m\u001b[0;34m\u001b[0m\u001b[0;34m\u001b[0m\u001b[0m\n\u001b[0;32m--> 932\u001b[0;31m         \u001b[0mself\u001b[0m\u001b[0;34m.\u001b[0m\u001b[0m_engine\u001b[0m \u001b[0;34m=\u001b[0m \u001b[0mself\u001b[0m\u001b[0;34m.\u001b[0m\u001b[0m_make_engine\u001b[0m\u001b[0;34m(\u001b[0m\u001b[0mf\u001b[0m\u001b[0;34m,\u001b[0m \u001b[0mself\u001b[0m\u001b[0;34m.\u001b[0m\u001b[0mengine\u001b[0m\u001b[0;34m)\u001b[0m\u001b[0;34m\u001b[0m\u001b[0;34m\u001b[0m\u001b[0m\n\u001b[0m\u001b[1;32m    933\u001b[0m \u001b[0;34m\u001b[0m\u001b[0m\n\u001b[1;32m    934\u001b[0m     \u001b[0;32mdef\u001b[0m \u001b[0mclose\u001b[0m\u001b[0;34m(\u001b[0m\u001b[0mself\u001b[0m\u001b[0;34m)\u001b[0m\u001b[0;34m:\u001b[0m\u001b[0;34m\u001b[0m\u001b[0;34m\u001b[0m\u001b[0m\n",
      "\u001b[0;32m~/anaconda3/lib/python3.9/site-packages/pandas/io/parsers/readers.py\u001b[0m in \u001b[0;36m_make_engine\u001b[0;34m(self, f, engine)\u001b[0m\n\u001b[1;32m   1214\u001b[0m             \u001b[0;31m# \"Union[str, PathLike[str], ReadCsvBuffer[bytes], ReadCsvBuffer[str]]\"\u001b[0m\u001b[0;34m\u001b[0m\u001b[0;34m\u001b[0m\u001b[0m\n\u001b[1;32m   1215\u001b[0m             \u001b[0;31m# , \"str\", \"bool\", \"Any\", \"Any\", \"Any\", \"Any\", \"Any\"\u001b[0m\u001b[0;34m\u001b[0m\u001b[0;34m\u001b[0m\u001b[0m\n\u001b[0;32m-> 1216\u001b[0;31m             self.handles = get_handle(  # type: ignore[call-overload]\n\u001b[0m\u001b[1;32m   1217\u001b[0m                 \u001b[0mf\u001b[0m\u001b[0;34m,\u001b[0m\u001b[0;34m\u001b[0m\u001b[0;34m\u001b[0m\u001b[0m\n\u001b[1;32m   1218\u001b[0m                 \u001b[0mmode\u001b[0m\u001b[0;34m,\u001b[0m\u001b[0;34m\u001b[0m\u001b[0;34m\u001b[0m\u001b[0m\n",
      "\u001b[0;32m~/anaconda3/lib/python3.9/site-packages/pandas/io/common.py\u001b[0m in \u001b[0;36mget_handle\u001b[0;34m(path_or_buf, mode, encoding, compression, memory_map, is_text, errors, storage_options)\u001b[0m\n\u001b[1;32m    784\u001b[0m         \u001b[0;32mif\u001b[0m \u001b[0mioargs\u001b[0m\u001b[0;34m.\u001b[0m\u001b[0mencoding\u001b[0m \u001b[0;32mand\u001b[0m \u001b[0;34m\"b\"\u001b[0m \u001b[0;32mnot\u001b[0m \u001b[0;32min\u001b[0m \u001b[0mioargs\u001b[0m\u001b[0;34m.\u001b[0m\u001b[0mmode\u001b[0m\u001b[0;34m:\u001b[0m\u001b[0;34m\u001b[0m\u001b[0;34m\u001b[0m\u001b[0m\n\u001b[1;32m    785\u001b[0m             \u001b[0;31m# Encoding\u001b[0m\u001b[0;34m\u001b[0m\u001b[0;34m\u001b[0m\u001b[0m\n\u001b[0;32m--> 786\u001b[0;31m             handle = open(\n\u001b[0m\u001b[1;32m    787\u001b[0m                 \u001b[0mhandle\u001b[0m\u001b[0;34m,\u001b[0m\u001b[0;34m\u001b[0m\u001b[0;34m\u001b[0m\u001b[0m\n\u001b[1;32m    788\u001b[0m                 \u001b[0mioargs\u001b[0m\u001b[0;34m.\u001b[0m\u001b[0mmode\u001b[0m\u001b[0;34m,\u001b[0m\u001b[0;34m\u001b[0m\u001b[0;34m\u001b[0m\u001b[0m\n",
      "\u001b[0;31mFileNotFoundError\u001b[0m: [Errno 2] No such file or directory: '/home/nmontes/Documentos/hanabi-results/info-gain/summary_true_2_players.csv'"
     ]
    }
   ],
   "source": [
    "path = \"/home/nmontes/Documentos/hanabi-results/info-gain\"\n",
    "\n",
    "results = {True: {}, False: {}}\n",
    "player_configs = [2, 3, 4, 5]\n",
    "\n",
    "for abd, n in product((True, False), player_configs):\n",
    "    results_file = \"{}/summary_{}_{}_players.csv\".format(path, str(abd).lower(), n)\n",
    "    df = pd.read_csv(results_file, sep=';', index_col=\"seed\")\n",
    "\n",
    "    # add efficiency as ratio score : hint\n",
    "    eff = df.apply(lambda x: x.score/x.hints if x.hints > 0 else 0, axis=1)\n",
    "    df.insert(df.shape[1], \"efficiency\", eff)\n",
    "    \n",
    "    results[abd][n] = df"
   ]
  },
  {
   "cell_type": "code",
   "execution_count": 3,
   "metadata": {},
   "outputs": [
    {
     "name": "stdout",
     "output_type": "stream",
     "text": [
      "2 players, abduction True\n",
      "          score  efficiency\n",
      "mean  18.606000    0.702015\n",
      "std    5.918854    0.232094\n",
      "\n",
      "3 players, abduction True\n",
      "          score  efficiency\n",
      "mean  17.972000    0.700878\n",
      "std    1.938745    0.101515\n",
      "\n",
      "4 players, abduction True\n",
      "          score  efficiency\n",
      "mean  16.502000    0.641741\n",
      "std    1.608468    0.092351\n",
      "\n",
      "5 players, abduction True\n",
      "         score  efficiency\n",
      "mean  14.42200    0.615392\n",
      "std    1.36955    0.086177\n",
      "\n",
      "2 players, abduction False\n",
      "          score  efficiency\n",
      "mean  14.568000    0.457975\n",
      "std    2.930281    0.103422\n",
      "\n",
      "3 players, abduction False\n",
      "          score  efficiency\n",
      "mean  12.524000    0.419426\n",
      "std    1.557651    0.070456\n",
      "\n",
      "4 players, abduction False\n",
      "          score  efficiency\n",
      "mean  11.232000    0.375438\n",
      "std    1.357151    0.060059\n",
      "\n",
      "5 players, abduction False\n",
      "         score  efficiency\n",
      "mean  9.232000    0.331239\n",
      "std   1.296742    0.060487\n",
      "\n"
     ]
    }
   ],
   "source": [
    "for abd, n in product((True, False), player_configs):\n",
    "    print(\"{} players, abduction {}\".format(n, abd))\n",
    "    print(results[abd][n][[\"score\", \"efficiency\"]].describe().loc[[\"mean\", \"std\"]])\n",
    "    print()"
   ]
  },
  {
   "cell_type": "code",
   "execution_count": 4,
   "metadata": {},
   "outputs": [
    {
     "name": "stdout",
     "output_type": "stream",
     "text": [
      "Pair-wise percentage gains:\n",
      "---------------------------\n",
      "  num_players      metric  pwpg\n",
      "0           2       score 27.09\n",
      "1           2  efficiency 53.68\n",
      "2           3       score 45.33\n",
      "3           3  efficiency 70.87\n",
      "4           4       score 48.90\n",
      "5           4  efficiency 74.82\n",
      "6           5       score 59.07\n",
      "7           5  efficiency 91.41\n"
     ]
    }
   ],
   "source": [
    "pwpg = pd.DataFrame(columns=[\"num_players\", \"metric\", \"pwpg\"])\n",
    "\n",
    "for p, v in product(player_configs, [\"score\", \"efficiency\"]):\n",
    "    gain = (results[True][p][v] - results[False][p][v]) / results[False][p][v]\n",
    "    gain.replace([np.inf, -np.inf], np.nan, inplace=True)\n",
    "    gain.dropna()\n",
    "    gain_perc = gain.mean() * 100\n",
    "    new_row = {\"num_players\": [p], \"metric\": [v], \"pwpg\": [gain_perc]}\n",
    "    new_row_df = pd.DataFrame.from_dict(new_row)\n",
    "    pwpg = pd.concat([pwpg, new_row_df], ignore_index=True)\n",
    "\n",
    "print(\"Pair-wise percentage gains:\")\n",
    "print(\"---------------------------\")\n",
    "pd.options.display.float_format = '{:,.2f}'.format\n",
    "print(pwpg)"
   ]
  },
  {
   "cell_type": "markdown",
   "metadata": {},
   "source": [
    "## Summary plots"
   ]
  },
  {
   "cell_type": "code",
   "execution_count": 5,
   "metadata": {},
   "outputs": [
    {
     "data": {
      "image/png": "[encoded data removed]",
      "text/plain": [
       "<Figure size 720x720 with 1 Axes>"
      ]
     },
     "metadata": {},
     "output_type": "display_data"
    }
   ],
   "source": [
    "plt.rcParams.update({'font.size': 28})\n",
    "fig, ax = plt.subplots(figsize=(10, 10), facecolor='white')\n",
    "\n",
    "epsilon = 0.15\n",
    "lw = 3\n",
    "colors = {True: 'springgreen', False: 'salmon'}\n",
    "\n",
    "for n in player_configs:\n",
    "    for abd in (True, False):\n",
    "        if abd:\n",
    "            x = n-epsilon\n",
    "        else:\n",
    "            x = n+epsilon\n",
    "        data = results[abd][n][\"score\"].to_numpy()\n",
    "        bp = ax.boxplot(\n",
    "            data,\n",
    "            positions=[x],\n",
    "            widths=[epsilon*2],\n",
    "            boxprops={'linewidth': lw},\n",
    "            medianprops={'linewidth': lw, 'color': 'black'},\n",
    "            capprops={'linewidth': lw},\n",
    "            whiskerprops={'linewidth': lw},\n",
    "            patch_artist=True\n",
    "        )\n",
    "        for patch in bp['boxes']:\n",
    "            patch.set(facecolor=colors[abd])\n",
    "\n",
    "ax.set_xticks(player_configs, labels=player_configs)\n",
    "ax.grid()\n",
    "ax.set_xlabel(\"Num. players\")\n",
    "ax.set_ylabel(\"Score\")\n",
    "# plt.savefig(\"score.png\")\n",
    "plt.show()"
   ]
  },
  {
   "cell_type": "code",
   "execution_count": 6,
   "metadata": {},
   "outputs": [
    {
     "data": {
      "image/png": "[encoded data removed]",
      "text/plain": [
       "<Figure size 720x720 with 1 Axes>"
      ]
     },
     "metadata": {},
     "output_type": "display_data"
    }
   ],
   "source": [
    "fig, ax = plt.subplots(figsize=(10, 10), facecolor='white')\n",
    "\n",
    "for n in player_configs:\n",
    "    for abd in (True, False):\n",
    "        if abd:\n",
    "            x = n-epsilon\n",
    "        else:\n",
    "            x = n+epsilon\n",
    "        data = results[abd][n][\"efficiency\"].to_numpy()\n",
    "        bp = ax.boxplot(\n",
    "            data,\n",
    "            positions=[x],\n",
    "            widths=[epsilon*2],\n",
    "            boxprops={'linewidth': lw},\n",
    "            medianprops={'linewidth': lw, 'color': 'black'},\n",
    "            capprops={'linewidth': lw},\n",
    "            whiskerprops={'linewidth': lw},\n",
    "            patch_artist=True\n",
    "        )\n",
    "        for patch in bp['boxes']:\n",
    "            patch.set(facecolor=colors[abd])\n",
    "\n",
    "ax.set_xticks(player_configs, labels=player_configs)\n",
    "ax.grid()\n",
    "ax.set_xlabel(\"Num. players\")\n",
    "ax.set_ylabel(\"Efficiency\")\n",
    "ax.axhline(0.5, linewidth=5, color='mediumblue', linestyle='--')\n",
    "# plt.savefig(\"efficiency.png\")\n",
    "plt.show()"
   ]
  },
  {
   "cell_type": "markdown",
   "metadata": {},
   "source": [
    "## Average information per hint"
   ]
  },
  {
   "cell_type": "code",
   "execution_count": 7,
   "metadata": {},
   "outputs": [],
   "source": [
    "for abd, n in product((True, False), player_configs):\n",
    "    total_explicit_info = {}\n",
    "    avg_explicit_info = {}\n",
    "    if abd:\n",
    "        total_implicit_info = {}\n",
    "        avg_implicit_info = {}\n",
    "        avg_explicit_distance = {}\n",
    "        avg_implicit_distance = {}\n",
    "\n",
    "    for seed in range(500):\n",
    "        results_file = \"{}/info_gain_{}_{}_{}.csv\".format(path, str(abd).lower(), n, seed)\n",
    "        df = pd.read_csv(results_file, sep=';')\n",
    "\n",
    "        # compute information gain (relative to the pre-action distribution)\n",
    "        # per move, aka the sum across all slots\n",
    "        explicit_info_all_slots = df.groupby([\"move\"])[\"explicit_info\"].sum().replace(0, np.NaN)\n",
    "        total_explicit_info[seed] = explicit_info_all_slots.sum()\n",
    "        avg_explicit_info[seed] = explicit_info_all_slots.mean()\n",
    "        if abd:\n",
    "            implicit_info_all_slots = df.groupby([\"move\"])[\"implicit_info\"].sum().replace(0, np.NaN)\n",
    "            total_implicit_info[seed] = implicit_info_all_slots.sum()\n",
    "            avg_implicit_info[seed] = implicit_info_all_slots.mean()\n",
    "\n",
    "    results[abd][n][\"total_explicit_info\"] = pd.Series(total_explicit_info)\n",
    "    results[abd][n][\"avg_explicit_info\"] = pd.Series(avg_explicit_info)\n",
    "    if abd:\n",
    "        results[abd][n][\"total_implicit_info\"] = pd.Series(total_implicit_info)\n",
    "        results[abd][n][\"avg_implicit_info\"] = pd.Series(avg_implicit_info)"
   ]
  },
  {
   "cell_type": "markdown",
   "metadata": {},
   "source": [
    "## Score rate that can be assigned to explicit and implicit information"
   ]
  },
  {
   "cell_type": "code",
   "execution_count": 8,
   "metadata": {},
   "outputs": [
    {
     "name": "stdout",
     "output_type": "stream",
     "text": [
      "2 players:\n",
      "Explicit score rate: 0.70\n",
      "Implicit score rate: 1.18\n",
      "Ratio of implicit to explicit score rate: 1.7\n",
      "\n",
      "3 players:\n",
      "Explicit score rate: 0.60\n",
      "Implicit score rate: 1.50\n",
      "Ratio of implicit to explicit score rate: 2.5\n",
      "\n",
      "4 players:\n",
      "Explicit score rate: 0.61\n",
      "Implicit score rate: 1.32\n",
      "Ratio of implicit to explicit score rate: 2.2\n",
      "\n",
      "5 players:\n",
      "Explicit score rate: 0.52\n",
      "Implicit score rate: 1.42\n",
      "Ratio of implicit to explicit score rate: 2.7\n",
      "\n"
     ]
    }
   ],
   "source": [
    "for n in player_configs:\n",
    "    score = {}\n",
    "    explicit_info = {}\n",
    "\n",
    "    score_rate = {}\n",
    "\n",
    "    results[False][n][\"score_rate\"] = results[False][n][\"score\"] / results[False][n][\"total_explicit_info\"]\n",
    "    score_rate['explicit'] = results[False][n][\"score_rate\"].mean()\n",
    "\n",
    "    results[True][n][\"score_by_expl_info\"] = results[True][n][\"total_explicit_info\"]*score_rate['explicit']\n",
    "    results[True][n][\"residual_score\"] = results[True][n][\"score\"] - results[True][n][\"score_by_expl_info\"]\n",
    "\n",
    "    results[True][n][\"impl_score_rate\"] = results[True][n][\"residual_score\"] / results[True][n][\"total_implicit_info\"]\n",
    "    score_rate['implicit'] = results[True][n][\"impl_score_rate\"].replace([np.inf, -np.inf], np.nan).mean()\n",
    "\n",
    "    print(\"{} players:\".format(n))\n",
    "    print(\"Explicit score rate: {:.2f}\".format(score_rate['explicit']))\n",
    "    print(\"Implicit score rate: {:.2f}\".format(score_rate['implicit']))\n",
    "    print(\"Ratio of implicit to explicit score rate: {:.1f}\\n\".format(score_rate['implicit']/score_rate['explicit']))"
   ]
  },
  {
   "cell_type": "markdown",
   "metadata": {},
   "source": [
    "## Percentage of score that can be assigned to each type of information"
   ]
  },
  {
   "cell_type": "code",
   "execution_count": 9,
   "metadata": {},
   "outputs": [
    {
     "name": "stdout",
     "output_type": "stream",
     "text": [
      "2 players:\n",
      "info    15.15\n",
      "score   27.80\n",
      "Name: mean, dtype: float64\n",
      "\n",
      "3 players:\n",
      "info    15.51\n",
      "score   30.55\n",
      "Name: mean, dtype: float64\n",
      "\n",
      "4 players:\n",
      "info    18.79\n",
      "score   32.24\n",
      "Name: mean, dtype: float64\n",
      "\n",
      "5 players:\n",
      "info    19.40\n",
      "score   38.37\n",
      "Name: mean, dtype: float64\n",
      "\n"
     ]
    }
   ],
   "source": [
    "for n in player_configs:\n",
    "    score_by_expl_info = results[True][n][\"total_explicit_info\"]*results[False][n][\"score_rate\"]\n",
    "    residual_score = results[True][n][\"score\"] - score_by_expl_info\n",
    "    # residual_score = results[True][n][\"score\"] - results[False][n][\"score\"]\n",
    "    percentage_impl_info = results[True][n][\"total_implicit_info\"] / (results[True][n][\"total_implicit_info\"] + results[True][n][\"total_explicit_info\"]) * 100\n",
    "    percentage_impl_score = residual_score / results[True][n][\"score\"] * 100\n",
    "    df = pd.DataFrame({'info': percentage_impl_info, 'score': percentage_impl_score})\n",
    "    df.replace([np.inf, -np.inf], np.nan, inplace=True)\n",
    "    df.dropna(inplace=True)\n",
    "    print(\"{} players:\".format(n))\n",
    "    print(df.describe().loc[\"mean\"])\n",
    "    print()"
   ]
  },
  {
   "cell_type": "markdown",
   "metadata": {},
   "source": [
    "## Statistical tests\n",
    "\n",
    "Perform statistical tests to compare the performance metrics (score and \n",
    "efficiency) between the case when abduction is _off_ and _on_."
   ]
  },
  {
   "cell_type": "code",
   "execution_count": 10,
   "metadata": {},
   "outputs": [],
   "source": [
    "plt.rcParams.update({'font.size': 24})\n",
    "\n",
    "def plot_histogram(n, variable):\n",
    "    fig, ax = plt.subplots(figsize=(8, 7.5), facecolor=\"white\")\n",
    "    if variable == \"score\":\n",
    "        bins = range(0, 26)\n",
    "    elif variable == \"efficiency\":\n",
    "        bins = np.linspace(0, 1, 25)\n",
    "    for abd in (True, False):\n",
    "        x = results[abd][n][variable]\n",
    "        ax.hist(x, bins, fc=colors[abd], ec=\"black\")\n",
    "    locs, labels = plt.yticks()\n",
    "    labs = [\"{:.2f}\".format(i/500) for i in locs]\n",
    "    ax.set_yticks(locs, labels=labs)\n",
    "    if variable == \"score\":\n",
    "        ax.set_xticks([0, 5, 10, 15, 20, 25])\n",
    "    elif variable == \"efficiency\":\n",
    "        ax.set_xticks([0., 0.25, 0.5, 0.75, 1.])\n",
    "    ax.set_axisbelow(True)\n",
    "    ax.grid()\n",
    "    ax.set_xlabel(variable.capitalize())\n",
    "    ax.set_ylabel(\"Frequency\")\n",
    "    # plt.savefig(\"hist_{}_{}.png\".format(n, variable), bbox_inches='tight')\n",
    "    plt.show()\n",
    "\n",
    "# variables = [\"score\", \"efficiency\"]\n",
    "# for n, var in product(player_configs, variables):\n",
    "#     plot_histogram(n, var)"
   ]
  },
  {
   "cell_type": "code",
   "execution_count": 11,
   "metadata": {},
   "outputs": [
    {
     "name": "stdout",
     "output_type": "stream",
     "text": [
      "2 players, abduction True, score: 1.16e-31\n",
      "2 players, abduction True, efficiency: 1.62e-28\n",
      "2 players, abduction False, score: 5.68e-29\n",
      "2 players, abduction False, efficiency: 7.97e-23\n",
      "3 players, abduction True, score: 7.00e-25\n",
      "3 players, abduction True, efficiency: 5.36e-15\n",
      "3 players, abduction False, score: 4.60e-10\n",
      "3 players, abduction False, efficiency: 2.84e-06\n",
      "4 players, abduction True, score: 5.66e-10\n",
      "4 players, abduction True, efficiency: 1.38e-02\n",
      "4 players, abduction False, score: 6.47e-12\n",
      "4 players, abduction False, efficiency: 1.18e-07\n",
      "5 players, abduction True, score: 1.41e-11\n",
      "5 players, abduction True, efficiency: 1.50e-04\n",
      "5 players, abduction False, score: 3.37e-13\n",
      "5 players, abduction False, efficiency: 2.36e-10\n"
     ]
    }
   ],
   "source": [
    "from scipy import stats\n",
    "\n",
    "# Step 1: Check that the variables are normally distributed\n",
    "variables = [\"score\", \"efficiency\"]\n",
    "for n, abd, var in product(player_configs, (True, False), variables):\n",
    "    x = results[abd][n][var]\n",
    "    _, pvalue = stats.shapiro(x)\n",
    "    print(\"{} players, abduction {}, {}: {:.2e}\".format(n, abd, var, pvalue))"
   ]
  },
  {
   "cell_type": "code",
   "execution_count": 12,
   "metadata": {},
   "outputs": [
    {
     "name": "stdout",
     "output_type": "stream",
     "text": [
      "2 players, score: 2.62e-35\n",
      "2 players, efficiency: 9.75e-72\n",
      "3 players, score: 1.97e-194\n",
      "3 players, efficiency: 6.26e-201\n",
      "4 players, score: 1.09e-223\n",
      "4 players, efficiency: 2.56e-217\n",
      "5 players, score: 4.45e-232\n",
      "5 players, efficiency: 3.80e-230\n"
     ]
    }
   ],
   "source": [
    "# Step 2: Pair-wise t-test\n",
    "for n, var in product(player_configs, variables):\n",
    "    x1 = results[True][n][var]\n",
    "    x2 = results[False][n][var]\n",
    "    _, pvalue = stats.ttest_rel(x1, x2)\n",
    "    print(\"{} players, {}: {:.2e}\".format(n, var, pvalue))"
   ]
  },
  {
   "cell_type": "markdown",
   "metadata": {},
   "source": [
    "## Compare distances to the _true_ values\n",
    "\n",
    "For every hint, find the _focus_ slot (if there is one). Then, compare the\n",
    "distance of the probability distribution at the focus slot between the\n",
    "**post-action** distribution and the **post-explanation**"
   ]
  },
  {
   "cell_type": "code",
   "execution_count": 13,
   "metadata": {},
   "outputs": [],
   "source": [
    "distance_red = {p: [] for p in player_configs}\n",
    "\n",
    "for n, seed in product(player_configs, range(500)):\n",
    "    results_file = \"{}/info_gain_true_{}_{}.csv\".format(path, n, seed)\n",
    "    df = pd.read_csv(results_file, sep=';')\n",
    "    df[\"delta\"] = df[\"distance_explicit\"] - df[\"distance_implicit\"]\n",
    "    df_focus = df.loc[df[\"delta\"] > 0.]\n",
    "    percentage_reduction = (df_focus[\"distance_explicit\"] - df_focus[\"distance_implicit\"]) / df_focus[\"distance_explicit\"] * 100\n",
    "    distance_red[n].append(percentage_reduction.mean())"
   ]
  },
  {
   "cell_type": "code",
   "execution_count": 14,
   "metadata": {},
   "outputs": [
    {
     "name": "stdout",
     "output_type": "stream",
     "text": [
      "Percentage gain in distance to the ground truth:\n",
      "2 players: 85.33%\n",
      "3 players: 88.29%\n",
      "4 players: 89.43%\n",
      "5 players: 91.49%\n"
     ]
    }
   ],
   "source": [
    "print(\"Percentage gain in distance to the ground truth:\")\n",
    "for p in player_configs:\n",
    "    print(\"{} players: {:.2f}%\".format(p, np.nanmean(distance_red[p])))"
   ]
  },
  {
   "cell_type": "markdown",
   "metadata": {},
   "source": [
    "# Elapsed Time of <span style=\"font-variant:small-caps;\">TomAbductionTask</span>"
   ]
  },
  {
   "cell_type": "code",
   "execution_count": 18,
   "metadata": {},
   "outputs": [
    {
     "data": {
      "image/png": "[encoded data removed]",
      "text/plain": [
       "<Figure size 720x720 with 1 Axes>"
      ]
     },
     "metadata": {},
     "output_type": "display_data"
    }
   ],
   "source": [
    "et_path = \"/home/nmontes/Documentos/hanabi-results/elapsed-time\"\n",
    "\n",
    "data = []\n",
    "for n in player_configs:\n",
    "    et_df = pd.read_csv(\"{}/et_{}_players.csv\".format(et_path, n), sep=';', names=['num_literals', 'et_us'])\n",
    "    et_df['et_ms'] = et_df['et_us'] / 1000\n",
    "    data.append(et_df['et_ms'].tolist())\n",
    "\n",
    "fig, ax = plt.subplots(figsize=(10, 10), facecolor='white')\n",
    "lw = 3\n",
    "width = 0.40\n",
    "bp = ax.boxplot(\n",
    "    data,\n",
    "    positions=player_configs,\n",
    "    widths=[width]*len(player_configs),\n",
    "    boxprops={'linewidth': lw},\n",
    "    medianprops={'linewidth': lw, 'color': 'black'},\n",
    "    capprops={'linewidth': lw},\n",
    "    whiskerprops={'linewidth': lw},\n",
    "    showfliers=False\n",
    ")\n",
    "\n",
    "ax.set_xticks(player_configs, labels=player_configs)\n",
    "ax.grid()\n",
    "ax.set_xlabel(\"Num. players\")\n",
    "ax.set_ylabel(\"Elapsed time (ms)\")\n",
    "# plt.savefig(\"elapsed_time.png\", dpi=400)\n",
    "plt.show()\n",
    "\n"
   ]
  },
  {
   "cell_type": "code",
   "execution_count": null,
   "metadata": {},
   "outputs": [],
   "source": []
  }
 ],
 "metadata": {
  "kernelspec": {
   "display_name": "Python 3.8.13 ('base')",
   "language": "python",
   "name": "python3"
  },
  "language_info": {
   "codemirror_mode": {
    "name": "ipython",
    "version": 3
   },
   "file_extension": ".py",
   "mimetype": "text/x-python",
   "name": "python",
   "nbconvert_exporter": "python",
   "pygments_lexer": "ipython3",
   "version": "3.9.13"
  },
  "orig_nbformat": 4,
  "vscode": {
   "interpreter": {
    "hash": "f60b49f44ca4c88c77be42c2df6aee398f8e429bf01babf4c2ddd1d3d351fc41"
   }
  }
 },
 "nbformat": 4,
 "nbformat_minor": 2
}

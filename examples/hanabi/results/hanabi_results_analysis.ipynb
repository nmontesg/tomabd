{
 "cells": [
  {
   "cell_type": "markdown",
   "metadata": {},
   "source": [
    "# Hanabi game simulation: Results analysis"
   ]
  },
  {
   "cell_type": "code",
   "execution_count": 1,
   "metadata": {},
   "outputs": [],
   "source": [
    "import pandas as pd\n",
    "import numpy as np\n",
    "import math\n",
    "import matplotlib.pyplot as plt\n",
    "import os"
   ]
  },
  {
   "cell_type": "code",
   "execution_count": 2,
   "metadata": {},
   "outputs": [],
   "source": [
    "results_parent_path = \"/home/nmontes/OneDrive/Documentos/PhD/hanabi-results\"\n",
    "num_players = 2\n",
    "slots_per_player = 5 if num_players == 2 or num_players == 3 else 4"
   ]
  },
  {
   "cell_type": "code",
   "execution_count": 3,
   "metadata": {},
   "outputs": [
    {
     "name": "stdout",
     "output_type": "stream",
     "text": [
      "For 2 players, 482 simulations have been run\n",
      "The following seeds are missing: 57 66 68 181 187 189 194 212 229 231 236 239 248 266 271 294 474 489\n"
     ]
    }
   ],
   "source": [
    "path = \"{}/{}_players\".format(results_parent_path, num_players)\n",
    "seeds = [int(folder.split('_')[-1]) for folder in os.listdir(path)]\n",
    "simulation_runs = len(seeds)\n",
    "print(\"For {} players, {} simulations have been run\".format(num_players, simulation_runs))\n",
    "\n",
    "max_seed = 500\n",
    "missing_seeds = [s for s in range(max_seed) if not s in seeds]\n",
    "print(\"The following seeds are missing:\", *missing_seeds)"
   ]
  },
  {
   "cell_type": "markdown",
   "metadata": {},
   "source": [
    "## Analysis of one game"
   ]
  },
  {
   "cell_type": "code",
   "execution_count": 4,
   "metadata": {},
   "outputs": [
    {
     "name": "stdout",
     "output_type": "stream",
     "text": [
      "   move player action_functor             actions_args  hints  score\n",
      "0     1  alice      give_hint   bob, color, white, [2]      1      0\n",
      "1     2    bob      give_hint  alice, color, blue, [1]      2      0\n",
      "2     3  alice      give_hint        bob, rank, 1, [2]      3      0\n",
      "3     4    bob      play_card                        2      3      1\n",
      "4     5  alice   discard_card                        2      3      1\n",
      "Score: 15\n",
      "Hints: 33\n",
      "Efficiency: 0.45\n"
     ]
    }
   ],
   "source": [
    "# analyze one game\n",
    "seed = 15\n",
    "evolution_file = \"{}/{}_players/results_{}_{}/evolution.csv\".format(results_parent_path, num_players, num_players, seed)\n",
    "evolution = pd.read_csv(evolution_file, sep=';')\n",
    "print(evolution.head())\n",
    "\n",
    "# find the final score and the total number of hints\n",
    "final_score = evolution[\"score\"].iloc[-1]\n",
    "total_hints = evolution[\"hints\"].iloc[-1]\n",
    "efficiency = final_score / total_hints\n",
    "\n",
    "print(\"Score: {}\".format(final_score))\n",
    "print(\"Hints: {}\".format(total_hints))\n",
    "print(\"Efficiency: {:.2f}\".format(efficiency))"
   ]
  },
  {
   "cell_type": "code",
   "execution_count": 6,
   "metadata": {},
   "outputs": [
    {
     "name": "stdout",
     "output_type": "stream",
     "text": [
      "   move player action_functor                actions_args  hints  score  \\\n",
      "0     1  alice      give_hint      bob, color, white, [2]      1      0   \n",
      "1     2    bob      give_hint     alice, color, blue, [1]      2      0   \n",
      "2     3  alice      give_hint           bob, rank, 1, [2]      3      0   \n",
      "5     6    bob      give_hint         alice, rank, 1, [1]      4      1   \n",
      "9    10    bob      give_hint  alice, color, white, [1,3]      5      2   \n",
      "\n",
      "  receiver  \n",
      "0      bob  \n",
      "1    alice  \n",
      "2      bob  \n",
      "5    alice  \n",
      "9    alice  \n"
     ]
    }
   ],
   "source": [
    "# find the game moves where hints were given\n",
    "hint_moves = evolution.loc[evolution[\"action_functor\"] == \"give_hint\"]\n",
    "\n",
    "# get the n-th argument from string s (arguments are comma-separated)\n",
    "def get_arg(s, n, sep):\n",
    "    l = [a.strip() for a in s.split(sep)]\n",
    "    return l[n]\n",
    "\n",
    "receiver = hint_moves[\"actions_args\"].apply(lambda s: get_arg(s, 0, ','))\n",
    "hint_moves.insert(hint_moves.shape[1], \"receiver\", receiver)\n",
    "print(hint_moves.head())"
   ]
  },
  {
   "cell_type": "code",
   "execution_count": 7,
   "metadata": {},
   "outputs": [
    {
     "name": "stdout",
     "output_type": "stream",
     "text": [
      "move                                   1\n",
      "player                             alice\n",
      "action_functor                 give_hint\n",
      "actions_args      bob, color, white, [2]\n",
      "hints                                  1\n",
      "score                                  0\n",
      "receiver                             bob\n",
      "Name: 0, dtype: object\n"
     ]
    }
   ],
   "source": [
    "n = 0\n",
    "m = hint_moves[\"move\"].iloc[n]\n",
    "print(hint_moves.iloc[n])\n",
    "\n",
    "# retrieve receiver of the hint\n",
    "rec = hint_moves.loc[hint_moves[\"move\"] == m, \"receiver\"].iloc[0]"
   ]
  },
  {
   "cell_type": "code",
   "execution_count": 18,
   "metadata": {},
   "outputs": [
    {
     "name": "stdout",
     "output_type": "stream",
     "text": [
      "   slot color  rank  num      prob\n",
      "0     3   red     4    2  0.044444\n",
      "1     3   red     5    1  0.022222\n",
      "2     3   red     1    3  0.066667\n",
      "3     3   red     2    2  0.044444\n",
      "4     3   red     3    2  0.044444\n",
      "   slot  color  rank  num  prob\n",
      "0     5  white     4    0   0.0\n",
      "1     5  white     5    0   0.0\n",
      "2     5  white     1    0   0.0\n",
      "3     5  white     2    0   0.0\n",
      "4     5  white     3    0   0.0\n"
     ]
    }
   ],
   "source": [
    "pre_action_file = \"{}/results_{}_{}/{}_{}_false.csv\".format(path, num_players, seed, rec, m)\n",
    "post_action_file = \"{}/results_{}_{}/{}_{}_false.csv\".format(path, num_players, seed, rec, m+1)\n",
    "post_explanation_file = \"{}/results_{}_{}/{}_{}_true.csv\".format(path, num_players, seed, rec, m+1)\n",
    "\n",
    "pre_action_distribution = pd.read_csv(pre_action_file, sep=';')\n",
    "post_action_distribution = pd.read_csv(post_action_file, sep=';')\n",
    "\n",
    "def compute_probability(df):\n",
    "    den = df.groupby(\"slot\")[\"num\"].sum()\n",
    "    for slot, n in den.iteritems():\n",
    "        assert n > 0, \"probability distribution for slot {} is ill-defined\".format(slot)\n",
    "    prob = df.apply(lambda x: x.num/den[x.slot], axis=1)\n",
    "    df.insert(df.shape[1], \"prob\", prob)\n",
    "\n",
    "compute_probability(pre_action_distribution)\n",
    "compute_probability(post_action_distribution)\n",
    "\n",
    "print(pre_action_distribution.head())\n",
    "print(post_action_distribution.head())"
   ]
  },
  {
   "cell_type": "code",
   "execution_count": 28,
   "metadata": {},
   "outputs": [
    {
     "name": "stdout",
     "output_type": "stream",
     "text": [
      "MRE using explicit information:\n",
      "-------------------------------\n",
      "Slot 1 -- D_KL = 0.09691\n",
      "Slot 2 -- D_KL = 0.69897\n",
      "Slot 3 -- D_KL = 0.09691\n",
      "Slot 4 -- D_KL = 0.09691\n",
      "Slot 5 -- D_KL = 0.09691\n"
     ]
    }
   ],
   "source": [
    "from itertools import product\n",
    "\n",
    "def kullback_leibler_distance(Q, P, slot, base=10):\n",
    "    colors = [\"red\", \"green\", \"white\", \"blue\", \"yellow\"]\n",
    "    ranks = [1, 2, 3, 4, 5]\n",
    "    D_kl = 0\n",
    "    for c, r in product(colors, ranks):\n",
    "        Q_prob = Q.loc[(Q[\"slot\"] == slot) & (Q[\"color\"] == c) & (Q[\"rank\"] == r), \"prob\"].iloc[0]\n",
    "        P_prob = P.loc[(P[\"slot\"] == slot) & (P[\"color\"] == c) & (P[\"rank\"] == r), \"prob\"].iloc[0]\n",
    "        if np.isclose(P_prob, 0, atol=1.0E-9):\n",
    "            continue\n",
    "        D_kl += P_prob * math.log(P_prob/Q_prob, base)\n",
    "    return D_kl\n",
    "\n",
    "explicit_info_mre = {}\n",
    "for s in range(1, slots_per_player+1):\n",
    "    d = kullback_leibler_distance(pre_action_distribution, post_action_distribution, s)\n",
    "    explicit_info_mre[s] = d\n",
    "\n",
    "print(\"MRE using explicit information:\")\n",
    "print(\"-------------------------------\")\n",
    "for s, mre in explicit_info_mre.items():\n",
    "    print(\"Slot {} -- D_KL = {:.5f}\".format(s, mre))"
   ]
  },
  {
   "cell_type": "code",
   "execution_count": 33,
   "metadata": {},
   "outputs": [
    {
     "name": "stdout",
     "output_type": "stream",
     "text": [
      "   slot  color  rank  num\n",
      "0     2  white     3    0\n",
      "1     2  white     2    0\n",
      "2     2  white     1    0\n",
      "3     2  white     5    0\n",
      "4     2  white     4    0\n"
     ]
    },
    {
     "data": {
      "text/html": [
       "<div>\n",
       "<style scoped>\n",
       "    .dataframe tbody tr th:only-of-type {\n",
       "        vertical-align: middle;\n",
       "    }\n",
       "\n",
       "    .dataframe tbody tr th {\n",
       "        vertical-align: top;\n",
       "    }\n",
       "\n",
       "    .dataframe thead th {\n",
       "        text-align: right;\n",
       "    }\n",
       "</style>\n",
       "<table border=\"1\" class=\"dataframe\">\n",
       "  <thead>\n",
       "    <tr style=\"text-align: right;\">\n",
       "      <th></th>\n",
       "      <th>slot</th>\n",
       "      <th>color</th>\n",
       "      <th>rank</th>\n",
       "      <th>num</th>\n",
       "    </tr>\n",
       "  </thead>\n",
       "  <tbody>\n",
       "    <tr>\n",
       "      <th>0</th>\n",
       "      <td>2</td>\n",
       "      <td>white</td>\n",
       "      <td>3</td>\n",
       "      <td>0</td>\n",
       "    </tr>\n",
       "    <tr>\n",
       "      <th>1</th>\n",
       "      <td>2</td>\n",
       "      <td>white</td>\n",
       "      <td>2</td>\n",
       "      <td>0</td>\n",
       "    </tr>\n",
       "    <tr>\n",
       "      <th>2</th>\n",
       "      <td>2</td>\n",
       "      <td>white</td>\n",
       "      <td>1</td>\n",
       "      <td>0</td>\n",
       "    </tr>\n",
       "    <tr>\n",
       "      <th>3</th>\n",
       "      <td>2</td>\n",
       "      <td>white</td>\n",
       "      <td>5</td>\n",
       "      <td>0</td>\n",
       "    </tr>\n",
       "    <tr>\n",
       "      <th>4</th>\n",
       "      <td>2</td>\n",
       "      <td>white</td>\n",
       "      <td>4</td>\n",
       "      <td>0</td>\n",
       "    </tr>\n",
       "    <tr>\n",
       "      <th>20</th>\n",
       "      <td>2</td>\n",
       "      <td>red</td>\n",
       "      <td>4</td>\n",
       "      <td>0</td>\n",
       "    </tr>\n",
       "    <tr>\n",
       "      <th>21</th>\n",
       "      <td>2</td>\n",
       "      <td>red</td>\n",
       "      <td>5</td>\n",
       "      <td>0</td>\n",
       "    </tr>\n",
       "    <tr>\n",
       "      <th>22</th>\n",
       "      <td>2</td>\n",
       "      <td>red</td>\n",
       "      <td>1</td>\n",
       "      <td>0</td>\n",
       "    </tr>\n",
       "    <tr>\n",
       "      <th>23</th>\n",
       "      <td>2</td>\n",
       "      <td>red</td>\n",
       "      <td>2</td>\n",
       "      <td>0</td>\n",
       "    </tr>\n",
       "    <tr>\n",
       "      <th>24</th>\n",
       "      <td>2</td>\n",
       "      <td>red</td>\n",
       "      <td>3</td>\n",
       "      <td>0</td>\n",
       "    </tr>\n",
       "    <tr>\n",
       "      <th>25</th>\n",
       "      <td>2</td>\n",
       "      <td>blue</td>\n",
       "      <td>4</td>\n",
       "      <td>0</td>\n",
       "    </tr>\n",
       "    <tr>\n",
       "      <th>26</th>\n",
       "      <td>2</td>\n",
       "      <td>blue</td>\n",
       "      <td>5</td>\n",
       "      <td>0</td>\n",
       "    </tr>\n",
       "    <tr>\n",
       "      <th>27</th>\n",
       "      <td>2</td>\n",
       "      <td>blue</td>\n",
       "      <td>1</td>\n",
       "      <td>0</td>\n",
       "    </tr>\n",
       "    <tr>\n",
       "      <th>28</th>\n",
       "      <td>2</td>\n",
       "      <td>blue</td>\n",
       "      <td>2</td>\n",
       "      <td>0</td>\n",
       "    </tr>\n",
       "    <tr>\n",
       "      <th>29</th>\n",
       "      <td>2</td>\n",
       "      <td>blue</td>\n",
       "      <td>3</td>\n",
       "      <td>0</td>\n",
       "    </tr>\n",
       "    <tr>\n",
       "      <th>30</th>\n",
       "      <td>2</td>\n",
       "      <td>green</td>\n",
       "      <td>4</td>\n",
       "      <td>0</td>\n",
       "    </tr>\n",
       "    <tr>\n",
       "      <th>31</th>\n",
       "      <td>2</td>\n",
       "      <td>green</td>\n",
       "      <td>5</td>\n",
       "      <td>0</td>\n",
       "    </tr>\n",
       "    <tr>\n",
       "      <th>32</th>\n",
       "      <td>2</td>\n",
       "      <td>green</td>\n",
       "      <td>1</td>\n",
       "      <td>0</td>\n",
       "    </tr>\n",
       "    <tr>\n",
       "      <th>33</th>\n",
       "      <td>2</td>\n",
       "      <td>green</td>\n",
       "      <td>2</td>\n",
       "      <td>0</td>\n",
       "    </tr>\n",
       "    <tr>\n",
       "      <th>34</th>\n",
       "      <td>2</td>\n",
       "      <td>green</td>\n",
       "      <td>3</td>\n",
       "      <td>0</td>\n",
       "    </tr>\n",
       "    <tr>\n",
       "      <th>35</th>\n",
       "      <td>2</td>\n",
       "      <td>yellow</td>\n",
       "      <td>4</td>\n",
       "      <td>0</td>\n",
       "    </tr>\n",
       "    <tr>\n",
       "      <th>36</th>\n",
       "      <td>2</td>\n",
       "      <td>yellow</td>\n",
       "      <td>5</td>\n",
       "      <td>0</td>\n",
       "    </tr>\n",
       "    <tr>\n",
       "      <th>37</th>\n",
       "      <td>2</td>\n",
       "      <td>yellow</td>\n",
       "      <td>1</td>\n",
       "      <td>0</td>\n",
       "    </tr>\n",
       "    <tr>\n",
       "      <th>38</th>\n",
       "      <td>2</td>\n",
       "      <td>yellow</td>\n",
       "      <td>2</td>\n",
       "      <td>0</td>\n",
       "    </tr>\n",
       "    <tr>\n",
       "      <th>39</th>\n",
       "      <td>2</td>\n",
       "      <td>yellow</td>\n",
       "      <td>3</td>\n",
       "      <td>0</td>\n",
       "    </tr>\n",
       "  </tbody>\n",
       "</table>\n",
       "</div>"
      ],
      "text/plain": [
       "    slot   color  rank  num\n",
       "0      2   white     3    0\n",
       "1      2   white     2    0\n",
       "2      2   white     1    0\n",
       "3      2   white     5    0\n",
       "4      2   white     4    0\n",
       "20     2     red     4    0\n",
       "21     2     red     5    0\n",
       "22     2     red     1    0\n",
       "23     2     red     2    0\n",
       "24     2     red     3    0\n",
       "25     2    blue     4    0\n",
       "26     2    blue     5    0\n",
       "27     2    blue     1    0\n",
       "28     2    blue     2    0\n",
       "29     2    blue     3    0\n",
       "30     2   green     4    0\n",
       "31     2   green     5    0\n",
       "32     2   green     1    0\n",
       "33     2   green     2    0\n",
       "34     2   green     3    0\n",
       "35     2  yellow     4    0\n",
       "36     2  yellow     5    0\n",
       "37     2  yellow     1    0\n",
       "38     2  yellow     2    0\n",
       "39     2  yellow     3    0"
      ]
     },
     "execution_count": 33,
     "metadata": {},
     "output_type": "execute_result"
    }
   ],
   "source": [
    "post_explanation_distribution = pd.read_csv(post_explanation_file, sep=';')\n",
    "# compute_probability(post_explanation_distribution)\n",
    "print(post_explanation_distribution.head())\n",
    "post_explanation_distribution.loc[post_explanation_distribution[\"slot\"] == 2]"
   ]
  },
  {
   "cell_type": "code",
   "execution_count": null,
   "metadata": {},
   "outputs": [],
   "source": []
  }
 ],
 "metadata": {
  "kernelspec": {
   "display_name": "Python 3.8.13 ('base')",
   "language": "python",
   "name": "python3"
  },
  "language_info": {
   "codemirror_mode": {
    "name": "ipython",
    "version": 3
   },
   "file_extension": ".py",
   "mimetype": "text/x-python",
   "name": "python",
   "nbconvert_exporter": "python",
   "pygments_lexer": "ipython3",
   "version": "3.8.13"
  },
  "orig_nbformat": 4,
  "vscode": {
   "interpreter": {
    "hash": "f60b49f44ca4c88c77be42c2df6aee398f8e429bf01babf4c2ddd1d3d351fc41"
   }
  }
 },
 "nbformat": 4,
 "nbformat_minor": 2
}
